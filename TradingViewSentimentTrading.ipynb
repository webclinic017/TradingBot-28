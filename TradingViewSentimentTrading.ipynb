{
 "cells": [
  {
   "cell_type": "code",
   "execution_count": null,
   "metadata": {},
   "outputs": [],
   "source": [
    "import finnhub\n",
    "import pandas as pd\n",
    "import datetime\n",
    "import requests\n",
    "from bs4 import BeautifulSoup\n",
    "import re\n",
    "import sqlite3\n",
    "import time\n",
    "from sqlite3 import OperationalError"
   ]
  },
  {
   "cell_type": "code",
   "execution_count": 56,
   "metadata": {},
   "outputs": [],
   "source": [
    "class trade_idea:\n",
    "    def __init__(self, symbol, time_frame, position, time_posted, user):\n",
    "        self.symbol = symbol\n",
    "        self.time_frame = time_frame\n",
    "        self.position = position\n",
    "        self.time_posted = time_posted\n",
    "        self.user = user\n",
    "\n",
    "def get_trade_ideas(begin_page, end_page):\n",
    "    trade_ideas = []\n",
    "    for i in range(begin_page, end_page):\n",
    "        trade_ideas.extend(store_all_data(\"https://www.tradingview.com/markets/stocks-usa/ideas/page-%d/\" % i))\n",
    "    print(len(trade_ideas))\n",
    "    return trade_ideas\n",
    "\n",
    "def store_all_data(URL):\n",
    "    page = requests.get(URL)\n",
    "    soup = BeautifulSoup(page.content, \"html.parser\")\n",
    "    data = soup.find_all(\"div\", class_=\"tv-widget-idea js-userlink-popup-anchor\")\n",
    "    trade_ideas = []\n",
    "    print(len(data))\n",
    "    for i in data:\n",
    "        symbol = i.find('a', class_=\"tv-widget-idea__symbol apply-overflow-tooltip\")\n",
    "        time_frame = i.find_all('span', class_=\"tv-widget-idea__timeframe\")[1]\n",
    "        position = i.find('span', class_=\"content-yHuWj4ze badge-idea-content-Naj79Gc7\")\n",
    "        time_posted = i.find('span', class_=\"tv-card-stats__time\")\n",
    "        user = i.find('span', class_=\"tv-card-user-info__name\")\n",
    "        if(symbol != None and time_frame != None and position != None and time_posted != None and user != None):\n",
    "            trade_ideas.append(trade_idea(symbol.text, time_frame.text, position.text, time_posted['data-timestamp'], user.text))          \n",
    "    return trade_ideas\n",
    "\n",
    "def calculate_profit(stock, profit_exit, loss_exit):\n",
    "    buy = 100\n",
    "    initial_price = stock['Open'][0]\n",
    "    exit1 = profit_exit\n",
    "    exit2 = loss_exit\n",
    "    for i in stock['Open']:\n",
    "        if i / initial_price > exit1:\n",
    "            print(\"initial_price: \", initial_price, \"current price: \", i)\n",
    "            return (buy * (i / initial_price)) - buy\n",
    "        if i / initial_price < exit2:\n",
    "            print(\"initial_price: \", initial_price, \"current price: \", i)\n",
    "            return (buy * (i / initial_price)) - buy\n",
    "    return 0\n",
    "\n",
    "def calculate_total_long_profit(trade_ideas, profit_exit_margin, exit_trade_margin):\n",
    "    sum = 0\n",
    "    for i in trade_ideas:\n",
    "        try:\n",
    "            stock = get_stock_db(i.symbol, i.time_posted, time.time())\n",
    "        except OperationalError:\n",
    "            stock = get_stock_api(i.symbol, i.time_posted, time.time())\n",
    "        if i.position == \"Long\":\n",
    "            profit = calculate_profit(stock, 1+profit_exit_margin, 1-exit_trade_margin)\n",
    "            sum += profit\n",
    "            print(i.symbol, i.time_frame, i.position, profit)\n",
    "            \n",
    "        elif i.position == \"Short\":\n",
    "            profit = -calculate_profit(stock, 1+exit_trade_margin, 1-profit_exit_margin)\n",
    "            sum += profit\n",
    "            print(i.symbol, i.time_frame, i.position, profit)\n",
    "    print(\"TOTAL PROFIT: \", sum)\n",
    "    \n",
    "def get_stock_db(stock_symbol, date_begin, date_end):\n",
    "    con = sqlite3.connect('TradingBotDatabase.db')\n",
    "    cur = con.cursor()\n",
    "    date_begin = datetime.datetime.fromtimestamp(int(float(date_begin))).strftime(\"%Y-%m-%d %H:%M:%S\")\n",
    "    date_end = datetime.datetime.fromtimestamp(int(float(date_end))).strftime(\"%Y-%m-%d %H:%M:%S\")\n",
    "    print(stock_symbol, date_begin, date_end)\n",
    "    cur.execute(f\"\"\"SELECT *     \n",
    "        FROM {stock_symbol} \n",
    "        WHERE timestamp > '{date_begin}'\n",
    "        AND timestamp < '{date_end}';\"\"\")\n",
    "    stock = pd.DataFrame(cur.fetchall()).set_index(0)\n",
    "    stock.rename(columns={0: 'Timestamp', 1: 'Open', 2: 'High', 3:'Low',4:'Close',5:'Volume',6:'Trade Count',7:'VWAP'}, inplace=True)\n",
    "    print('')\n",
    "    return stock\n",
    "\n",
    "def get_stock_api(stock_symbol, date_begin, date_end):\n",
    "    data = finnhub_client.stock_candles(stock_symbol, 'D', int(float(date_begin)), int(float(date_end)))\n",
    "    df = pd.DataFrame(data)\n",
    "    df['t'] = df['t'].apply(lambda x: datetime.datetime.fromtimestamp(x))\n",
    "    stock = df[['t','o','h','l','c','v']].set_index('t')\n",
    "    stock.rename(columns={'o': 'Open', 'h': 'High', 'l':'Low','c':'Close','v':'Volume'}, inplace=True)\n",
    "    return stock        \n",
    "\n",
    "def print_trade_ideas():\n",
    "    for i in trade_ideas:\n",
    "        print(i.symbol, i.time_frame, i.position, i.time_posted, i.user)\n"
   ]
  },
  {
   "cell_type": "code",
   "execution_count": null,
   "metadata": {},
   "outputs": [],
   "source": [
    "finnhub_client = finnhub.Client(api_key=\"cb40dtaad3i8tak19g00\")"
   ]
  },
  {
   "cell_type": "code",
   "execution_count": null,
   "metadata": {},
   "outputs": [],
   "source": [
    "print_trade_ideas()"
   ]
  },
  {
   "cell_type": "code",
   "execution_count": null,
   "metadata": {},
   "outputs": [],
   "source": [
    "get_stock_api(\"TSLA\", 1656585469, 1657635469)"
   ]
  },
  {
   "cell_type": "code",
   "execution_count": null,
   "metadata": {},
   "outputs": [],
   "source": [
    "get_stock_db(\"TSLA\", 1656585469, 1657635469)"
   ]
  },
  {
   "cell_type": "code",
   "execution_count": null,
   "metadata": {},
   "outputs": [],
   "source": [
    "trade_ideas = get_trade_ideas(148,151)"
   ]
  },
  {
   "cell_type": "code",
   "execution_count": 57,
   "metadata": {},
   "outputs": [
    {
     "name": "stdout",
     "output_type": "stream",
     "text": [
      "WIT 2022-07-22 15:33:53 2022-08-03 17:04:56\n",
      "initial_price:  5.15 current price:  5.04\n",
      "WIT 1W Long -2.135922330097088\n",
      "META 2022-07-22 15:28:39 2022-08-03 17:04:56\n",
      "initial_price:  171.11 current price:  170.15\n",
      "META 30 Long -0.561042604172755\n",
      "CDMO 2022-07-22 14:49:20 2022-08-03 17:04:56\n",
      "initial_price:  19.66 current price:  17.53\n",
      "CDMO 1D Long -10.834181078331625\n",
      "SOPH 2022-07-22 14:40:38 2022-08-03 17:04:56\n",
      "initial_price:  3.89 current price:  3.57\n",
      "SOPH 1D Long -8.226221079691527\n",
      "CAL 2022-07-22 14:38:15 2022-08-03 17:04:56\n",
      "initial_price:  27.85 current price:  27.33\n",
      "CAL 1D Long -1.8671454219030608\n",
      "ZM 2022-07-22 13:16:23 2022-08-03 17:04:56\n",
      "initial_price:  111.0 current price:  106.39\n",
      "ZM 240 Long -4.153153153153156\n",
      "AAPL 2022-07-22 11:51:46 2022-08-03 17:04:56\n",
      "initial_price:  155.7 current price:  154.1099\n",
      "AAPL 1D Short 1.0212588310854045\n",
      "TSLA 2022-07-22 11:37:00 2022-08-03 17:04:56\n",
      "initial_price:  819.4 current price:  828.85\n",
      "TSLA 480 Long 1.1532828899194527\n",
      "SPY 2022-07-22 11:36:20 2022-08-03 17:04:56\n",
      "initial_price:  397.61 current price:  399.65\n",
      "SPY 1D Short -0.5130655667613837\n",
      "TSLA 2022-07-22 11:23:49 2022-08-03 17:04:56\n",
      "initial_price:  818.3 current price:  826.8\n",
      "TSLA 1D Long 1.0387388488329492\n",
      "LULU 2022-07-22 11:19:07 2022-08-03 17:04:56\n",
      "initial_price:  307.5 current price:  293.75\n",
      "LULU 1D Long -4.471544715447152\n",
      "HIMX 2022-07-22 09:04:01 2022-08-03 17:04:57\n",
      "initial_price:  7.35 current price:  7.1\n",
      "HIMX 1D Long -3.4013605442176953\n",
      "U 2022-07-22 08:40:45 2022-08-03 17:04:57\n",
      "initial_price:  39.76 current price:  36.33\n",
      "U 15 Long -8.626760563380287\n",
      "AGRI 2022-07-22 08:09:14 2022-08-03 17:04:57\n",
      "initial_price:  2.15 current price:  2.01\n",
      "AGRI 15 Long -6.5116279069767415\n",
      "BNTX 2022-07-22 07:39:53 2022-08-03 17:04:57\n",
      "initial_price:  164.12 current price:  161.75\n",
      "BNTX 1D Long -1.4440653180599554\n",
      "IWM 2022-07-22 07:36:24 2022-08-03 17:04:57\n",
      "initial_price:  181.59 current price:  182.5\n",
      "IWM 1D Short -0.5011289167905773\n",
      "AMZN 2022-07-22 07:08:11 2022-08-03 17:04:57\n",
      "initial_price:  123.4 current price:  124.66\n",
      "AMZN 480 Long 1.021069692058333\n",
      "HITI 2022-07-22 06:37:22 2022-08-03 17:04:57\n",
      "initial_price:  1.6 current price:  1.62\n",
      "HITI 1D Long 1.25\n",
      "MSFT 2022-07-22 06:31:36 2022-08-03 17:04:57\n",
      "initial_price:  263.75 current price:  262.27\n",
      "MSFT 240 Long -0.5611374407583014\n",
      "SHOP 2022-07-22 06:28:46 2022-08-03 17:04:57\n",
      "initial_price:  39.4 current price:  37.05\n",
      "SHOP 1D Long -5.964467005076145\n",
      "SPY 2022-07-22 06:20:31 2022-08-03 17:04:58\n",
      "initial_price:  397.13 current price:  399.25\n",
      "SPY 60 Short -0.5338302319139814\n",
      "QQQ 2022-07-22 05:42:26 2022-08-03 17:04:58\n",
      "initial_price:  304.7 current price:  306.29\n",
      "QQQ 1D Short -0.5218247456514717\n",
      "QQQ 2022-07-22 04:54:22 2022-08-03 17:04:58\n",
      "initial_price:  304.9 current price:  308.28\n",
      "QQQ 1D Long 1.108560183666782\n",
      "FFIE 2022-07-22 04:08:31 2022-08-03 17:04:58\n",
      "initial_price:  2.82 current price:  2.61\n",
      "FFIE 1D Short 7.4468085106382915\n",
      "GOOG 2022-07-22 03:51:46 2022-08-03 17:04:58\n",
      "initial_price:  112.6 current price:  111.45\n",
      "GOOG 1D Short 1.021314387211362\n",
      "GOOG 2022-07-22 03:50:58 2022-08-03 17:04:58\n",
      "initial_price:  112.6 current price:  111.45\n",
      "GOOG 1D Short 1.021314387211362\n",
      "CAN 2022-07-22 03:45:48 2022-08-03 17:04:58\n",
      "initial_price:  4.54 current price:  4.142\n",
      "CAN 1W Long -8.766519823788542\n",
      "TSLA 2022-07-22 03:19:34 2022-08-03 17:04:58\n",
      "initial_price:  808.0 current price:  816.3\n",
      "TSLA 1D Long 1.0272277227722668\n",
      "SPY 2022-07-22 01:50:54 2022-08-03 17:04:58\n",
      "initial_price:  397.13 current price:  395.07\n",
      "SPY 1D Long -0.5187218291239759\n",
      "BABA 2022-07-22 01:42:07 2022-08-03 17:04:58\n",
      "initial_price:  104.17 current price:  104.7\n",
      "BABA 1W Short -0.5087837189209949\n",
      "SPY 2022-07-22 01:28:45 2022-08-03 17:04:58\n",
      "initial_price:  397.13 current price:  395.07\n",
      "SPY 1D Long -0.5187218291239759\n",
      "SPY 2022-07-22 01:23:56 2022-08-03 17:04:58\n",
      "initial_price:  397.13 current price:  395.07\n",
      "SPY 1D Long -0.5187218291239759\n",
      "TOTAL PROFIT:  -54.550372199068164\n"
     ]
    }
   ],
   "source": [
    "calculate_total_long_profit(trade_ideas, 0.010, 0.005)"
   ]
  },
  {
   "cell_type": "code",
   "execution_count": null,
   "metadata": {},
   "outputs": [],
   "source": [
    "stock = get_stock(\"SPY\", 1657344370.0, time.time())"
   ]
  },
  {
   "cell_type": "code",
   "execution_count": null,
   "metadata": {},
   "outputs": [],
   "source": [
    "original_price = stock[\"Open\"][0]"
   ]
  },
  {
   "cell_type": "code",
   "execution_count": null,
   "metadata": {},
   "outputs": [],
   "source": [
    "original_price"
   ]
  },
  {
   "cell_type": "code",
   "execution_count": null,
   "metadata": {},
   "outputs": [],
   "source": [
    "stock['% change'] = stock.apply(lambda x: 1 - (x['Open'] / original_price), axis = 1)"
   ]
  },
  {
   "cell_type": "code",
   "execution_count": null,
   "metadata": {},
   "outputs": [],
   "source": [
    "stock"
   ]
  },
  {
   "cell_type": "code",
   "execution_count": null,
   "metadata": {},
   "outputs": [],
   "source": []
  }
 ],
 "metadata": {
  "kernelspec": {
   "display_name": "Python 3",
   "language": "python",
   "name": "python3"
  },
  "language_info": {
   "codemirror_mode": {
    "name": "ipython",
    "version": 3
   },
   "file_extension": ".py",
   "mimetype": "text/x-python",
   "name": "python",
   "nbconvert_exporter": "python",
   "pygments_lexer": "ipython3",
   "version": "3.8.5"
  }
 },
 "nbformat": 4,
 "nbformat_minor": 4
}
