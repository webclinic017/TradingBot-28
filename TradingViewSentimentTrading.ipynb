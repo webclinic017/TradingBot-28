{
 "cells": [
  {
   "cell_type": "code",
   "execution_count": 170,
   "metadata": {},
   "outputs": [],
   "source": [
    "import finnhub\n",
    "import pandas as pd\n",
    "from datetime import datetime, timedelta\n",
    "import requests\n",
    "from bs4 import BeautifulSoup\n",
    "import re\n",
    "import sqlite3\n",
    "import time\n",
    "from sqlite3 import OperationalError"
   ]
  },
  {
   "cell_type": "code",
   "execution_count": 6,
   "metadata": {},
   "outputs": [],
   "source": [
    "import alpaca_trade_api as api\n",
    "\n",
    "API_KEY = 'PKQA6MM20L2CQZKAOAHW'\n",
    "API_SECRET = '4AJeSo8hcSqHa2TNwJv9IS8efb5PNDxHUju3UJjH'\n",
    "BASE_URL = \"https://paper-api.alpaca.markets\"\n",
    "\n",
    "alpaca = api.REST(API_KEY, API_SECRET, BASE_URL)"
   ]
  },
  {
   "cell_type": "code",
   "execution_count": 180,
   "metadata": {},
   "outputs": [],
   "source": [
    "class trade_idea:\n",
    "    def __init__(self, symbol, time_frame, position, time_posted, user):\n",
    "        self.symbol = symbol\n",
    "        self.time_frame = time_frame\n",
    "        self.position = position\n",
    "        self.time_posted = time_posted\n",
    "        self.user = user\n",
    "        \n",
    "class user_rating:\n",
    "    def __init__(self, username, profit_percentage, num_trades):\n",
    "        self.username = username\n",
    "        self.profit_percentage = profit_percentage\n",
    "        self.num_trades = num_trades\n",
    "        \n",
    "def get_trade_ideas_db():    \n",
    "    con = sqlite3.connect('TradingBotDatabase.db')\n",
    "    cur = con.cursor()\n",
    "    trade_ideas = []\n",
    "    for row in cur.execute(f\"SELECT * FROM trade_ideas;\"):\n",
    "        trade_ideas.append(trade_idea(row[0], row[1], row[2], row[3], row[4]))\n",
    "    return trade_ideas\n",
    "\n",
    "def create_connection(db_file):\n",
    "    \"\"\" create a database connection to the SQLite database\n",
    "        specified by db_file\n",
    "    :param db_file: database file\n",
    "    :return: Connection object or None\n",
    "    \"\"\"\n",
    "    conn = None\n",
    "    try:\n",
    "        conn = sqlite3.connect(db_file)\n",
    "        return conn\n",
    "    except Error as e:\n",
    "        print(e)\n",
    "\n",
    "    return conn\n",
    "\n",
    "def get_trade_ideas(begin_page, end_page):\n",
    "    trade_ideas = []\n",
    "    for i in range(begin_page, end_page):\n",
    "        print(i)\n",
    "        trade_ideas.extend(store_all_data(\"https://www.tradingview.com/markets/stocks-usa/ideas/page-%d/\" % i))\n",
    "    print(len(trade_ideas))\n",
    "    return trade_ideas\n",
    "\n",
    "def store_all_data(URL):\n",
    "    page = requests.get(URL)\n",
    "    soup = BeautifulSoup(page.content, \"html.parser\")\n",
    "    data = soup.find_all(\"div\", class_=\"tv-widget-idea js-userlink-popup-anchor\")\n",
    "    trade_ideas = []\n",
    "    print(len(data))\n",
    "    for i in data:\n",
    "        symbol = i.find('a', class_=\"tv-widget-idea__symbol apply-overflow-tooltip\")\n",
    "        time_frame = i.find_all('span', class_=\"tv-widget-idea__timeframe\")[1]\n",
    "        position = i.find('span', class_=\"content-yHuWj4ze badge-idea-content-Naj79Gc7\")\n",
    "        time_posted = i.find('span', class_=\"tv-card-stats__time\")\n",
    "        user = i.find('span', class_=\"tv-card-user-info__name\")\n",
    "        if(symbol != None and time_frame != None and position != None and time_posted != None and user != None):\n",
    "            trade_ideas.append(trade_idea(symbol.text, time_frame.text, position.text, time_posted['data-timestamp'], user.text))          \n",
    "    return trade_ideas\n",
    "\n",
    "def calculate_profit(stock, profit_exit, loss_exit):\n",
    "    buy = 100\n",
    "    initial_price = stock['open'][0]\n",
    "    exit1 = profit_exit\n",
    "    exit2 = loss_exit\n",
    "    for i in stock['open']:\n",
    "        if i / initial_price > exit1:\n",
    "            print(\"initial_price: \", initial_price, \"current price: \", i)\n",
    "            return (buy * (i / initial_price)) - buy\n",
    "        if i / initial_price < exit2:\n",
    "            print(\"initial_price: \", initial_price, \"current price: \", i)\n",
    "            return (buy * (i / initial_price)) - buy\n",
    "    return 0\n",
    "\n",
    "def calculate_total_profit_good_users(trade_ideas, profit_exit_margin, exit_trade_margin, good_users):\n",
    "    sum = 0\n",
    "    users = {}\n",
    "    for i in trade_ideas:\n",
    "        if i.user not in good_users:\n",
    "            continue\n",
    "        try:\n",
    "            stock = get_stock_db(i.symbol, i.time_posted, time.time() - 86400)\n",
    "        except OperationalError:\n",
    "            stock = get_stock_alpaca(i.symbol, i.time_posted, time.time() - 86400)\n",
    "        if len(stock) < 100:\n",
    "            continue\n",
    "        if i.position == \"Long\":\n",
    "            profit = calculate_profit(stock, 1+profit_exit_margin, 1-exit_trade_margin)\n",
    "            sum += profit\n",
    "            if i.user not in users:\n",
    "                users[i.user] = [0,0]\n",
    "            users[i.user][0] += profit\n",
    "            users[i.user][1] += 1\n",
    "            print(i.symbol, i.time_frame, i.position, profit)\n",
    "            \n",
    "        elif i.position == \"Short\":\n",
    "            profit = -calculate_profit(stock, 1+exit_trade_margin, 1-profit_exit_margin)\n",
    "            sum += profit\n",
    "            if i.user not in users:\n",
    "                users[i.user] = [0,0]\n",
    "            users[i.user][0] += profit\n",
    "            users[i.user][1] += 1\n",
    "            print(i.symbol, i.time_frame, i.position, profit)\n",
    "    print(\"TOTAL PROFIT: \", sum)\n",
    "    return users\n",
    "\n",
    "def calculate_total_profit(trade_ideas, profit_exit_margin, exit_trade_margin):\n",
    "    sum = 0\n",
    "    users = {}\n",
    "    for i in trade_ideas:\n",
    "        try:\n",
    "            stock = get_stock_db(i.symbol, i.time_posted, time.time() - 86400)\n",
    "        except OperationalError:\n",
    "            stock = get_stock_alpaca(i.symbol, i.time_posted, time.time() - 86400)\n",
    "        if len(stock) < 100:\n",
    "            continue\n",
    "        if i.position == \"Long\":\n",
    "            profit = calculate_profit(stock, 1+profit_exit_margin, 1-exit_trade_margin)\n",
    "            sum += profit\n",
    "            if i.user not in users:\n",
    "                users[i.user] = [0,0]\n",
    "            users[i.user][0] += profit\n",
    "            users[i.user][1] += 1\n",
    "            print(i.symbol, i.time_frame, i.position, profit)\n",
    "            \n",
    "        elif i.position == \"Short\":\n",
    "            profit = -calculate_profit(stock, 1+exit_trade_margin, 1-profit_exit_margin)\n",
    "            sum += profit\n",
    "            if i.user not in users:\n",
    "                users[i.user] = [0,0]\n",
    "            users[i.user][0] += profit\n",
    "            users[i.user][1] += 1\n",
    "            print(i.symbol, i.time_frame, i.position, profit)\n",
    "    print(\"TOTAL PROFIT: \", sum)\n",
    "    return users\n",
    "    \n",
    "def get_stock_db(stock_symbol, date_begin, date_end):\n",
    "    con = sqlite3.connect('TradingBotDatabase.db')\n",
    "    cur = con.cursor()\n",
    "    date_begin = datetime.fromtimestamp(int(float(date_begin))).strftime(\"%Y-%m-%d %H:%M:%S\")\n",
    "    date_end = datetime.fromtimestamp(int(float(date_end))).strftime(\"%Y-%m-%d %H:%M:%S\")\n",
    "    cur.execute(f\"\"\"SELECT *     \n",
    "        FROM {stock_symbol} \n",
    "        WHERE timestamp > '{date_begin}'\n",
    "        AND timestamp < '{date_end}';\"\"\")\n",
    "    stock = pd.DataFrame(cur.fetchall()).set_index(0)\n",
    "    stock.rename(columns={0: 'Timestamp', 1: 'open', 2: 'High', 3:'Low',4:'Close',5:'Volume',6:'Trade Count',7:'VWAP'}, inplace=True)\n",
    "    return stock\n",
    "\n",
    "def get_stock_alpaca(stock_symbol, date_begin, date_end, timeframe = \"1Min\"):\n",
    "    date_begin = datetime.fromtimestamp(int(float(date_begin))).strftime(\"%Y-%m-%d\")\n",
    "    date_end = datetime.fromtimestamp(int(float(date_end))).strftime(\"%Y-%m-%d\")\n",
    "    conn = create_connection('TradingBotDatabase.db')\n",
    "    stock = alpaca.get_bars(stock_symbol, timeframe, date_begin, date_end).df   \n",
    "    stock.to_sql(stock_symbol, conn, if_exists='append')\n",
    "    print(\"stored in db\")\n",
    "    return stock\n",
    "\n",
    "def get_stock_api(stock_symbol, date_begin, date_end):\n",
    "    data = finnhub_client.stock_candles(stock_symbol, 'D', int(float(date_begin)), int(float(date_end)))\n",
    "    df = pd.DataFrame(data)\n",
    "    df['t'] = df['t'].apply(lambda x: datetime.datetime.fromtimestamp(x))\n",
    "    stock = df[['t','o','h','l','c','v']].set_index('t')\n",
    "    stock.rename(columns={'o': 'open', 'h': 'High', 'l':'Low','c':'Close','v':'Volume'}, inplace=True)\n",
    "    return stock        \n",
    "\n",
    "def print_trade_ideas():\n",
    "    for i in trade_ideas:\n",
    "        print(i.symbol, i.time_frame, i.position, i.time_posted, i.user)\n",
    "        \n"
   ]
  },
  {
   "cell_type": "code",
   "execution_count": 123,
   "metadata": {},
   "outputs": [],
   "source": [
    "trade_ideas = get_trade_ideas_db()"
   ]
  },
  {
   "cell_type": "raw",
   "metadata": {},
   "source": [
    "finnhub_client = finnhub.Client(api_key=\"cb40dtaad3i8tak19g00\")"
   ]
  },
  {
   "cell_type": "code",
   "execution_count": null,
   "metadata": {},
   "outputs": [],
   "source": [
    "users = calculate_total_profit(trade_ideas, 0.010, 0.005)"
   ]
  },
  {
   "cell_type": "code",
   "execution_count": 183,
   "metadata": {},
   "outputs": [],
   "source": [
    "df = pd.DataFrame.from_dict(good_users_users, orient='index').sort_values(0, ascending=False)"
   ]
  },
  {
   "cell_type": "code",
   "execution_count": 194,
   "metadata": {},
   "outputs": [
    {
     "data": {
      "text/plain": [
       "{'MarketMoversReport': [-4.606330058558967, 18],\n",
       " 'Johnny_Nickles': [-0.5429621874315131, 1],\n",
       " 'lauralea': [-1.0284135310549374, 2],\n",
       " 'holeyprofit': [0.4815242426750075, 2],\n",
       " 'otwa2113': [-0.6612867039825971, 3]}"
      ]
     },
     "execution_count": 194,
     "metadata": {},
     "output_type": "execute_result"
    }
   ],
   "source": [
    "good_users_users"
   ]
  },
  {
   "cell_type": "code",
   "execution_count": null,
   "metadata": {},
   "outputs": [],
   "source": [
    "good_users_users = calculate_total_profit_good_users(trade_ideas, 0.015, 0.015, good_users_list)"
   ]
  },
  {
   "cell_type": "code",
   "execution_count": 187,
   "metadata": {},
   "outputs": [],
   "source": [
    "df = pd.DataFrame.from_dict(users, orient='index').sort_values(0, ascending=False)"
   ]
  },
  {
   "cell_type": "code",
   "execution_count": 188,
   "metadata": {},
   "outputs": [],
   "source": [
    "df = df.rename(columns={0:\"total profit\", 1:\"trade count\"})"
   ]
  },
  {
   "cell_type": "code",
   "execution_count": 195,
   "metadata": {},
   "outputs": [
    {
     "data": {
      "text/html": [
       "<div>\n",
       "<style scoped>\n",
       "    .dataframe tbody tr th:only-of-type {\n",
       "        vertical-align: middle;\n",
       "    }\n",
       "\n",
       "    .dataframe tbody tr th {\n",
       "        vertical-align: top;\n",
       "    }\n",
       "\n",
       "    .dataframe thead th {\n",
       "        text-align: right;\n",
       "    }\n",
       "</style>\n",
       "<table border=\"1\" class=\"dataframe\">\n",
       "  <thead>\n",
       "    <tr style=\"text-align: right;\">\n",
       "      <th></th>\n",
       "      <th>total profit</th>\n",
       "      <th>trade count</th>\n",
       "    </tr>\n",
       "  </thead>\n",
       "  <tbody>\n",
       "    <tr>\n",
       "      <th>Rocky88888888888</th>\n",
       "      <td>39.252155</td>\n",
       "      <td>14</td>\n",
       "    </tr>\n",
       "    <tr>\n",
       "      <th>myway999</th>\n",
       "      <td>30.979979</td>\n",
       "      <td>1</td>\n",
       "    </tr>\n",
       "    <tr>\n",
       "      <th>otwa2113</th>\n",
       "      <td>15.229575</td>\n",
       "      <td>27</td>\n",
       "    </tr>\n",
       "    <tr>\n",
       "      <th>lauralea</th>\n",
       "      <td>14.523260</td>\n",
       "      <td>19</td>\n",
       "    </tr>\n",
       "    <tr>\n",
       "      <th>Johnny_Nickles</th>\n",
       "      <td>13.937796</td>\n",
       "      <td>13</td>\n",
       "    </tr>\n",
       "    <tr>\n",
       "      <th>MarketMoversReport</th>\n",
       "      <td>12.410432</td>\n",
       "      <td>26</td>\n",
       "    </tr>\n",
       "    <tr>\n",
       "      <th>holeyprofit</th>\n",
       "      <td>11.602006</td>\n",
       "      <td>28</td>\n",
       "    </tr>\n",
       "    <tr>\n",
       "      <th>vmreyesa</th>\n",
       "      <td>10.667362</td>\n",
       "      <td>21</td>\n",
       "    </tr>\n",
       "    <tr>\n",
       "      <th>cdarbonne3344</th>\n",
       "      <td>9.735492</td>\n",
       "      <td>20</td>\n",
       "    </tr>\n",
       "    <tr>\n",
       "      <th>TheCryptoChartWhisperer</th>\n",
       "      <td>9.182223</td>\n",
       "      <td>10</td>\n",
       "    </tr>\n",
       "  </tbody>\n",
       "</table>\n",
       "</div>"
      ],
      "text/plain": [
       "                         total profit  trade count\n",
       "Rocky88888888888            39.252155           14\n",
       "myway999                    30.979979            1\n",
       "otwa2113                    15.229575           27\n",
       "lauralea                    14.523260           19\n",
       "Johnny_Nickles              13.937796           13\n",
       "MarketMoversReport          12.410432           26\n",
       "holeyprofit                 11.602006           28\n",
       "vmreyesa                    10.667362           21\n",
       "cdarbonne3344                9.735492           20\n",
       "TheCryptoChartWhisperer      9.182223           10"
      ]
     },
     "execution_count": 195,
     "metadata": {},
     "output_type": "execute_result"
    }
   ],
   "source": [
    "df[:10]"
   ]
  },
  {
   "cell_type": "code",
   "execution_count": 216,
   "metadata": {},
   "outputs": [],
   "source": [
    "good_users = df.loc[(df['total profit'] >= 10) & (df['trade count'] >= 10)]"
   ]
  },
  {
   "cell_type": "code",
   "execution_count": 217,
   "metadata": {},
   "outputs": [
    {
     "data": {
      "text/html": [
       "<div>\n",
       "<style scoped>\n",
       "    .dataframe tbody tr th:only-of-type {\n",
       "        vertical-align: middle;\n",
       "    }\n",
       "\n",
       "    .dataframe tbody tr th {\n",
       "        vertical-align: top;\n",
       "    }\n",
       "\n",
       "    .dataframe thead th {\n",
       "        text-align: right;\n",
       "    }\n",
       "</style>\n",
       "<table border=\"1\" class=\"dataframe\">\n",
       "  <thead>\n",
       "    <tr style=\"text-align: right;\">\n",
       "      <th></th>\n",
       "      <th>total profit</th>\n",
       "      <th>trade count</th>\n",
       "    </tr>\n",
       "  </thead>\n",
       "  <tbody>\n",
       "    <tr>\n",
       "      <th>Rocky88888888888</th>\n",
       "      <td>39.252155</td>\n",
       "      <td>14</td>\n",
       "    </tr>\n",
       "    <tr>\n",
       "      <th>otwa2113</th>\n",
       "      <td>15.229575</td>\n",
       "      <td>27</td>\n",
       "    </tr>\n",
       "    <tr>\n",
       "      <th>lauralea</th>\n",
       "      <td>14.523260</td>\n",
       "      <td>19</td>\n",
       "    </tr>\n",
       "    <tr>\n",
       "      <th>Johnny_Nickles</th>\n",
       "      <td>13.937796</td>\n",
       "      <td>13</td>\n",
       "    </tr>\n",
       "    <tr>\n",
       "      <th>MarketMoversReport</th>\n",
       "      <td>12.410432</td>\n",
       "      <td>26</td>\n",
       "    </tr>\n",
       "    <tr>\n",
       "      <th>holeyprofit</th>\n",
       "      <td>11.602006</td>\n",
       "      <td>28</td>\n",
       "    </tr>\n",
       "    <tr>\n",
       "      <th>vmreyesa</th>\n",
       "      <td>10.667362</td>\n",
       "      <td>21</td>\n",
       "    </tr>\n",
       "  </tbody>\n",
       "</table>\n",
       "</div>"
      ],
      "text/plain": [
       "                    total profit  trade count\n",
       "Rocky88888888888       39.252155           14\n",
       "otwa2113               15.229575           27\n",
       "lauralea               14.523260           19\n",
       "Johnny_Nickles         13.937796           13\n",
       "MarketMoversReport     12.410432           26\n",
       "holeyprofit            11.602006           28\n",
       "vmreyesa               10.667362           21"
      ]
     },
     "execution_count": 217,
     "metadata": {},
     "output_type": "execute_result"
    }
   ],
   "source": [
    "good_users"
   ]
  },
  {
   "cell_type": "code",
   "execution_count": 191,
   "metadata": {},
   "outputs": [],
   "source": [
    "good_users_list = good_users.index.tolist()"
   ]
  },
  {
   "cell_type": "code",
   "execution_count": 192,
   "metadata": {},
   "outputs": [
    {
     "data": {
      "text/plain": [
       "['Rocky88888888888',\n",
       " 'myway999',\n",
       " 'otwa2113',\n",
       " 'lauralea',\n",
       " 'Johnny_Nickles',\n",
       " 'MarketMoversReport',\n",
       " 'holeyprofit',\n",
       " 'vmreyesa']"
      ]
     },
     "execution_count": 192,
     "metadata": {},
     "output_type": "execute_result"
    }
   ],
   "source": [
    "good_users_list"
   ]
  },
  {
   "cell_type": "code",
   "execution_count": 139,
   "metadata": {},
   "outputs": [
    {
     "data": {
      "text/plain": [
       "956"
      ]
     },
     "execution_count": 139,
     "metadata": {},
     "output_type": "execute_result"
    }
   ],
   "source": [
    "conn = create_connection('TradingBotDatabase.db') \n",
    "df.to_sql(\"user_data\", conn, if_exists='replace')\n"
   ]
  },
  {
   "cell_type": "markdown",
   "metadata": {},
   "source": [
    "##### stock = get_stock_alpaca(\"TSLA\", 1657344370.0, time.time() - 100000)"
   ]
  },
  {
   "cell_type": "code",
   "execution_count": 87,
   "metadata": {},
   "outputs": [
    {
     "data": {
      "text/plain": [
       "13878"
      ]
     },
     "execution_count": 87,
     "metadata": {},
     "output_type": "execute_result"
    }
   ],
   "source": [
    "len(stock)"
   ]
  },
  {
   "cell_type": "code",
   "execution_count": null,
   "metadata": {},
   "outputs": [],
   "source": [
    "original_price = stock[\"Open\"][0]"
   ]
  },
  {
   "cell_type": "code",
   "execution_count": null,
   "metadata": {},
   "outputs": [],
   "source": [
    "original_price"
   ]
  },
  {
   "cell_type": "code",
   "execution_count": null,
   "metadata": {},
   "outputs": [],
   "source": [
    "stock['% change'] = stock.apply(lambda x: 1 - (x['Open'] / original_price), axis = 1)"
   ]
  },
  {
   "cell_type": "code",
   "execution_count": null,
   "metadata": {},
   "outputs": [],
   "source": [
    "stock"
   ]
  },
  {
   "cell_type": "code",
   "execution_count": null,
   "metadata": {},
   "outputs": [],
   "source": [
    "print_trade_ideas()"
   ]
  },
  {
   "cell_type": "code",
   "execution_count": null,
   "metadata": {},
   "outputs": [],
   "source": []
  },
  {
   "cell_type": "code",
   "execution_count": 118,
   "metadata": {},
   "outputs": [],
   "source": [
    "import sqlite3\n",
    "from sqlite3 import Error\n",
    "\n",
    "\n",
    "def create_connection(db_file):\n",
    "    \"\"\" create a database connection to the SQLite database\n",
    "        specified by db_file\n",
    "    :param db_file: database file\n",
    "    :return: Connection object or None\n",
    "    \"\"\"\n",
    "    conn = None\n",
    "    try:\n",
    "        conn = sqlite3.connect(db_file)\n",
    "        return conn\n",
    "    except Error as e:\n",
    "        print(e)\n",
    "\n",
    "    return conn\n",
    "\n",
    "def create_table(conn, create_table_sql):\n",
    "    \"\"\" create a table from the create_table_sql statement\n",
    "    :param conn: Connection object\n",
    "    :param create_table_sql: a CREATE TABLE statement\n",
    "    :return:\n",
    "    \"\"\"\n",
    "    try:\n",
    "        c = conn.cursor()\n",
    "        c.execute(create_table_sql)\n",
    "    except Error as e:\n",
    "        print(e)\n",
    "        \n",
    "def create_trade_idea(conn, idea):\n",
    "    \"\"\"\n",
    "    Create a new project into the projects table\n",
    "    :param conn:\n",
    "    :param project:\n",
    "    :return: project id\n",
    "    \"\"\"\n",
    "    sql = ''' INSERT OR IGNORE INTO trade_ideas(symbol,time_frame,position,time_posted,user)\n",
    "              VALUES(?,?,?,?,?) '''\n",
    "    cur = conn.cursor()\n",
    "    cur.execute(sql, idea)\n",
    "    conn.commit()\n",
    "    return cur.lastrowid\n",
    "\n",
    "def create_new_table():\n",
    "    \n",
    "    database = r\"TradingBotDatabase.db\"\n",
    "\n",
    "\n",
    "    # create a database connection\n",
    "    conn = create_connection(database)\n",
    "    sql_create_trade_ideas_table = \"\"\" CREATE TABLE IF NOT EXISTS stock_data (\n",
    "                                        symbol text NOT NULL,\n",
    "                                        timestamp timestamp NOT NULL,\n",
    "                                        open float NOT NULL,\n",
    "                                        high float NOT NULL,\n",
    "                                        low float NOT NULL,\n",
    "                                        close float NOT NULL,\n",
    "                                        volumne integer NOT NULL,\n",
    "                                        PRIMARY KEY(symbol)\n",
    "                                    ); \"\"\"\n",
    "    # create tables\n",
    "    if conn is not None:\n",
    "        # create projects table\n",
    "        create_table(conn, sql_create_trade_ideas_table)\n",
    "    else:\n",
    "        print(\"Error! cannot create the database connection.\")\n",
    "\n",
    "def add_trade_ideas(trade_ideas):\n",
    "    database = r\"TradingBotDatabase.db\"\n",
    "\n",
    "\n",
    "    # create a database connection\n",
    "    conn = create_connection(database)\n",
    "\n",
    "    # create tables\n",
    "#     if conn is not None:\n",
    "#         # create projects table\n",
    "#         create_table(conn, sql_create_trade_ideas_table)\n",
    "#     else:\n",
    "#         print(\"Error! cannot create the database connection.\")\n",
    "\n",
    "    with conn:\n",
    "        # tasks\n",
    "        for i in trade_ideas:\n",
    "            print(i)\n",
    "            trade_idea = (i.symbol, i.time_frame, i.position, i.time_posted, i.user)\n",
    "            create_trade_idea(conn, trade_idea)\n",
    "\n",
    "        # create tasks\n",
    "        \n",
    "def add_stock_data(stock, symbol):\n",
    "    database = r\"TradingBotDatabase.db\"\n",
    "\n",
    "\n",
    "    # create a database connection\n",
    "    conn = create_connection(database)\n",
    "\n",
    "    with conn:\n",
    "        # tasks\n",
    "        for i in stock:\n",
    "            print(i)\n",
    "            trade_idea = (i.symbol, i.time_frame, i.position, i.time_posted, i.user)\n",
    "            create_trade_idea(conn, trade_idea)\n",
    "\n",
    "        # create tasks\n"
   ]
  },
  {
   "cell_type": "code",
   "execution_count": null,
   "metadata": {},
   "outputs": [],
   "source": [
    "add_trade_ideas(trade_ideas)"
   ]
  },
  {
   "cell_type": "code",
   "execution_count": 120,
   "metadata": {},
   "outputs": [],
   "source": [
    "dbideas= get_trade_ideas_db()"
   ]
  },
  {
   "cell_type": "code",
   "execution_count": 121,
   "metadata": {},
   "outputs": [
    {
     "data": {
      "text/plain": [
       "2917"
      ]
     },
     "execution_count": 121,
     "metadata": {},
     "output_type": "execute_result"
    }
   ],
   "source": [
    "len(dbideas)"
   ]
  },
  {
   "cell_type": "code",
   "execution_count": null,
   "metadata": {},
   "outputs": [],
   "source": [
    "dbideas"
   ]
  },
  {
   "cell_type": "code",
   "execution_count": null,
   "metadata": {},
   "outputs": [],
   "source": [
    "users"
   ]
  },
  {
   "cell_type": "code",
   "execution_count": 206,
   "metadata": {},
   "outputs": [
    {
     "data": {
      "text/plain": [
       "list"
      ]
     },
     "execution_count": 206,
     "metadata": {},
     "output_type": "execute_result"
    }
   ],
   "source": [
    "type(get_trade_ideas_db())"
   ]
  },
  {
   "cell_type": "code",
   "execution_count": null,
   "metadata": {},
   "outputs": [],
   "source": []
  }
 ],
 "metadata": {
  "kernelspec": {
   "display_name": "Python 3",
   "language": "python",
   "name": "python3"
  },
  "language_info": {
   "codemirror_mode": {
    "name": "ipython",
    "version": 3
   },
   "file_extension": ".py",
   "mimetype": "text/x-python",
   "name": "python",
   "nbconvert_exporter": "python",
   "pygments_lexer": "ipython3",
   "version": "3.8.5"
  }
 },
 "nbformat": 4,
 "nbformat_minor": 4
}
