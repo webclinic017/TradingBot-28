{
 "cells": [
  {
   "cell_type": "code",
   "execution_count": 1,
   "metadata": {},
   "outputs": [],
   "source": [
    "import sqlite3\n",
    "from sqlite3 import Error\n",
    "\n",
    "\n",
    "def create_connection(db_file):\n",
    "    \"\"\" create a database connection to the SQLite database\n",
    "        specified by db_file\n",
    "    :param db_file: database file\n",
    "    :return: Connection object or None\n",
    "    \"\"\"\n",
    "    conn = None\n",
    "    try:\n",
    "        conn = sqlite3.connect(db_file)\n",
    "        return conn\n",
    "    except Error as e:\n",
    "        print(e)\n",
    "\n",
    "    return conn\n",
    "\n",
    "def create_table(conn, create_table_sql):\n",
    "    \"\"\" create a table from the create_table_sql statement\n",
    "    :param conn: Connection object\n",
    "    :param create_table_sql: a CREATE TABLE statement\n",
    "    :return:\n",
    "    \"\"\"\n",
    "    try:\n",
    "        c = conn.cursor()\n",
    "        c.execute(create_table_sql)\n",
    "    except Error as e:\n",
    "        print(e)\n",
    "        \n",
    "def create_trade_idea(conn, idea):\n",
    "    \"\"\"\n",
    "    Create a new project into the projects table\n",
    "    :param conn:\n",
    "    :param project:\n",
    "    :return: project id\n",
    "    \"\"\"\n",
    "    sql = ''' INSERT OR IGNORE INTO trade_ideas(symbol,time_frame,position,time_posted,user)\n",
    "              VALUES(?,?,?,?,?) '''\n",
    "    cur = conn.cursor()\n",
    "    cur.execute(sql, idea)\n",
    "    conn.commit()\n",
    "    return cur.lastrowid\n",
    "\n",
    "def create_new_table():\n",
    "    \n",
    "    database = r\"TradingBotDatabase.db\"\n",
    "\n",
    "\n",
    "    # create a database connection\n",
    "    conn = create_connection(database)\n",
    "    sql_create_trade_ideas_table = \"\"\" CREATE TABLE IF NOT EXISTS stock_data (\n",
    "                                        symbol text NOT NULL,\n",
    "                                        timestamp timestamp NOT NULL,\n",
    "                                        open float NOT NULL,\n",
    "                                        high float NOT NULL,\n",
    "                                        low float NOT NULL,\n",
    "                                        close float NOT NULL,\n",
    "                                        volumne integer NOT NULL,\n",
    "                                        PRIMARY KEY(symbol)\n",
    "                                    ); \"\"\"\n",
    "    # create tables\n",
    "    if conn is not None:\n",
    "        # create projects table\n",
    "        create_table(conn, sql_create_trade_ideas_table)\n",
    "    else:\n",
    "        print(\"Error! cannot create the database connection.\")\n",
    "\n",
    "def add_trade_ideas(trade_ideas):\n",
    "    database = r\"TradingBotDatabase.db\"\n",
    "\n",
    "\n",
    "    # create a database connection\n",
    "    conn = create_connection(database)\n",
    "\n",
    "    # create tables\n",
    "#     if conn is not None:\n",
    "#         # create projects table\n",
    "#         create_table(conn, sql_create_trade_ideas_table)\n",
    "#     else:\n",
    "#         print(\"Error! cannot create the database connection.\")\n",
    "\n",
    "    with conn:\n",
    "        # tasks\n",
    "        for i in trade_ideas:\n",
    "            print(i)\n",
    "            trade_idea = (i.symbol, i.time_frame, i.position, i.time_posted, i.user)\n",
    "            create_trade_idea(conn, trade_idea)\n",
    "\n",
    "        # create tasks\n",
    "        \n",
    "def add_stock_data(stock, symbol):\n",
    "    database = r\"TradingBotDatabase.db\"\n",
    "\n",
    "\n",
    "    # create a database connection\n",
    "    conn = create_connection(database)\n",
    "\n",
    "    with conn:\n",
    "        # tasks\n",
    "        for i in stock:\n",
    "            print(i)\n",
    "            trade_idea = (i.symbol, i.time_frame, i.position, i.time_posted, i.user)\n",
    "            create_trade_idea(conn, trade_idea)\n",
    "\n",
    "        # create tasks\n"
   ]
  },
  {
   "cell_type": "code",
   "execution_count": 2,
   "metadata": {},
   "outputs": [
    {
     "name": "stderr",
     "output_type": "stream",
     "text": [
      "C:\\Users\\jordi\\anaconda3\\lib\\site-packages\\numpy\\_distributor_init.py:30: UserWarning: loaded more than 1 DLL from .libs:\n",
      "C:\\Users\\jordi\\anaconda3\\lib\\site-packages\\numpy\\.libs\\libopenblas.FB5AE2TYXYH2IJRDKGDGQ3XBKLKTF43H.gfortran-win_amd64.dll\n",
      "C:\\Users\\jordi\\anaconda3\\lib\\site-packages\\numpy\\.libs\\libopenblas.NOIJJG62EMASZI6NYURL6JBKM4EVBGM7.gfortran-win_amd64.dll\n",
      "  warnings.warn(\"loaded more than 1 DLL from .libs:\"\n"
     ]
    }
   ],
   "source": [
    "import finnhub\n",
    "import pandas as pd\n",
    "import datetime\n",
    "import requests\n",
    "from bs4 import BeautifulSoup\n",
    "import re\n",
    "import time\n",
    "\n",
    "class trade_idea:\n",
    "    def __init__(self, symbol, time_frame, position, time_posted, user):\n",
    "        self.symbol = symbol\n",
    "        self.time_frame = time_frame\n",
    "        self.position = position\n",
    "        self.time_posted = time_posted\n",
    "        self.user = user\n",
    "        \n",
    "def get_trade_ideas(begin_page, end_page):\n",
    "    trade_ideas = []\n",
    "    for i in range(begin_page, end_page):\n",
    "        trade_ideas.extend(store_all_data(\"https://www.tradingview.com/markets/stocks-usa/ideas/page-%d/\" % i))\n",
    "    print(len(trade_ideas))\n",
    "    return trade_ideas\n",
    "\n",
    "def store_all_data(URL):\n",
    "    page = requests.get(URL)\n",
    "    soup = BeautifulSoup(page.content, \"html.parser\")\n",
    "    data = soup.find_all(\"div\", class_=\"tv-widget-idea js-userlink-popup-anchor\")\n",
    "    trade_ideas = []\n",
    "    print(len(data))\n",
    "    for i in data:\n",
    "        symbol = i.find('a', class_=\"tv-widget-idea__symbol apply-overflow-tooltip\")\n",
    "        time_frame = i.find_all('span', class_=\"tv-widget-idea__timeframe\")[1]\n",
    "        position = i.find('span', class_=\"content-yHuWj4ze badge-idea-content-Naj79Gc7\")\n",
    "        time_posted = i.find('span', class_=\"tv-card-stats__time\")\n",
    "        user = i.find('span', class_=\"tv-card-user-info__name\")\n",
    "        if(symbol != None and time_frame != None and position != None and time_posted != None and user != None):\n",
    "            trade_ideas.append(trade_idea(symbol.text, time_frame.text, position.text, time_posted['data-timestamp'], user.text))          \n",
    "    return trade_ideas\n",
    "\n",
    "def print_trade_ideas():\n",
    "    for i in trade_ideas:\n",
    "        print(i.symbol, i.time_frame, i.position, i.time_posted, i.user)"
   ]
  },
  {
   "cell_type": "code",
   "execution_count": null,
   "metadata": {},
   "outputs": [],
   "source": [
    "trade_ideas = get_trade_ideas(148,200)"
   ]
  },
  {
   "cell_type": "code",
   "execution_count": 51,
   "metadata": {},
   "outputs": [
    {
     "name": "stdout",
     "output_type": "stream",
     "text": [
      "SPY\n",
      "TSLA\n",
      "AAPL\n",
      "AMZN\n",
      "MSFT\n",
      "QQQ\n",
      "NVDA\n",
      "AMD\n",
      "NFLX\n",
      "BABA\n",
      "AMC\n",
      "META\n",
      "RBLX\n",
      "CRWD\n",
      "GOOG\n",
      "SMH\n",
      "GDX\n",
      "IWM\n",
      "OXY\n",
      "PYPL\n"
     ]
    }
   ],
   "source": [
    "import sqlite3\n",
    "\n",
    "# Create a SQL connection to our SQLite database\n",
    "con = sqlite3.connect(\"TradingBotDatabase.db\")\n",
    "\n",
    "cur = con.cursor()\n",
    "\n",
    "# The result of a \"cursor.execute\" can be iterated over by row\n",
    "# for row in cur.execute('SELECT * FROM trade_ideas ORDER BY time_posted;'):\n",
    "#     print(row)\n",
    "\n",
    "collect_symbols = []\n",
    "\n",
    "for row in cur.execute('SELECT symbol FROM trade_ideas GROUP BY symbol ORDER BY COUNT(symbol) DESC LIMIT 20;'):\n",
    "    collect_symbols.append(row[0])\n",
    "    print(row[0])\n",
    "\n",
    "# for row in cur.execute('SELECT DISTINCT symbol FROM trade_ideas;'):\n",
    "#     print(row[0])\n",
    "\n",
    "# Be sure to close the connection\n",
    "con.close()"
   ]
  },
  {
   "cell_type": "code",
   "execution_count": 8,
   "metadata": {},
   "outputs": [],
   "source": [
    "import alpaca_trade_api as api\n",
    "\n",
    "API_KEY = 'PKQA6MM20L2CQZKAOAHW'\n",
    "API_SECRET = '4AJeSo8hcSqHa2TNwJv9IS8efb5PNDxHUju3UJjH'\n",
    "BASE_URL = \"https://paper-api.alpaca.markets\"\n",
    "\n",
    "alpaca = api.REST(API_KEY, API_SECRET, BASE_URL)"
   ]
  },
  {
   "cell_type": "code",
   "execution_count": 6,
   "metadata": {},
   "outputs": [],
   "source": [
    "def get_crypto_historic_data(symbol, timeframe = \"1Min\", start = \"2022-01-25\", end = \"2022-01-31\", exchange = \"CBSE\"):\n",
    "    return alpaca.get_crypto_bars(symbol, timeframe, start, end, exchanges = exchange).df    \n",
    "\n",
    "def get_stock_historic_data(symbol, timeframe = \"1Min\", start = \"2022-01-25\", end = \"2022-01-31\"):\n",
    "    return alpaca.get_bars(symbol, timeframe, start, end).df   "
   ]
  },
  {
   "cell_type": "code",
   "execution_count": 3,
   "metadata": {},
   "outputs": [],
   "source": [
    "collect_symbols = \"\"\"SPY\n",
    "TSLA\n",
    "AAPL\n",
    "AMZN\n",
    "MSFT\n",
    "QQQ\n",
    "NVDA\n",
    "AMD\n",
    "NFLX\n",
    "BABA\n",
    "AMC\n",
    "META\n",
    "RBLX\n",
    "CRWD\n",
    "GOOG\n",
    "SMH\n",
    "GDX\n",
    "IWM\n",
    "OXY\n",
    "PYPL\"\"\".split()"
   ]
  },
  {
   "cell_type": "code",
   "execution_count": 4,
   "metadata": {},
   "outputs": [
    {
     "data": {
      "text/plain": [
       "['SPY',\n",
       " 'TSLA',\n",
       " 'AAPL',\n",
       " 'AMZN',\n",
       " 'MSFT',\n",
       " 'QQQ',\n",
       " 'NVDA',\n",
       " 'AMD',\n",
       " 'NFLX',\n",
       " 'BABA',\n",
       " 'AMC',\n",
       " 'META',\n",
       " 'RBLX',\n",
       " 'CRWD',\n",
       " 'GOOG',\n",
       " 'SMH',\n",
       " 'GDX',\n",
       " 'IWM',\n",
       " 'OXY',\n",
       " 'PYPL']"
      ]
     },
     "execution_count": 4,
     "metadata": {},
     "output_type": "execute_result"
    }
   ],
   "source": [
    "collect_symbols"
   ]
  },
  {
   "cell_type": "code",
   "execution_count": 64,
   "metadata": {},
   "outputs": [
    {
     "data": {
      "text/plain": [
       "12197"
      ]
     },
     "execution_count": 64,
     "metadata": {},
     "output_type": "execute_result"
    }
   ],
   "source": [
    "database = r\"TradingBotDatabase.db\"\n",
    "stock = get_stock_historic_data(\"TSLA\", start = \"2022-06-30\", end = \"2022-07-24\")\n",
    "\n",
    "# create a database connection\n",
    "conn = create_connection(database)\n",
    "stock.to_sql(\"stock\", conn)"
   ]
  },
  {
   "cell_type": "code",
   "execution_count": 9,
   "metadata": {},
   "outputs": [],
   "source": [
    "database = r\"TradingBotDatabase.db\"\n",
    "\n",
    "# create a database connection\n",
    "conn = create_connection(database)\n",
    "\n",
    "for symbol in collect_symbols:\n",
    "    stock = get_stock_historic_data(symbol, start = \"2022-07-22\", end = \"2022-08-02\")\n",
    "    stock.to_sql(symbol, conn, if_exists = 'append')"
   ]
  },
  {
   "cell_type": "code",
   "execution_count": 7,
   "metadata": {},
   "outputs": [
    {
     "data": {
      "text/plain": [
       "4649"
      ]
     },
     "execution_count": 7,
     "metadata": {},
     "output_type": "execute_result"
    }
   ],
   "source": [
    "database = r\"TradingBotDatabase.db\"\n",
    "\n",
    "# create a database connection\n",
    "conn = create_connection(database)\n",
    "\n",
    "stock = get_stock_historic_data(\"PYPL\", start = \"2022-07-22\", end = \"2022-08-02\")\n",
    "stock.to_sql(\"PYPL\", conn, if_exists = 'append')"
   ]
  },
  {
   "cell_type": "code",
   "execution_count": null,
   "metadata": {},
   "outputs": [],
   "source": []
  }
 ],
 "metadata": {
  "kernelspec": {
   "display_name": "Python 3",
   "language": "python",
   "name": "python3"
  },
  "language_info": {
   "codemirror_mode": {
    "name": "ipython",
    "version": 3
   },
   "file_extension": ".py",
   "mimetype": "text/x-python",
   "name": "python",
   "nbconvert_exporter": "python",
   "pygments_lexer": "ipython3",
   "version": "3.8.5"
  }
 },
 "nbformat": 4,
 "nbformat_minor": 4
}
